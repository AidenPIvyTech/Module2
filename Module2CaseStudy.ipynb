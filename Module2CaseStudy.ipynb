{
 "cells": [
  {
   "cell_type": "code",
   "execution_count": null,
   "id": "a0074d6b-e36f-43b1-9fb9-7f4958338a39",
   "metadata": {},
   "outputs": [
    {
     "name": "stdout",
     "output_type": "stream",
     "text": [
      "What is your last name? ZZZ\n"
     ]
    },
    {
     "name": "stdout",
     "output_type": "stream",
     "text": [
      "Done\n"
     ]
    }
   ],
   "source": [
    "#Aiden Privett\n",
    "#Module2CaseStudy.ipynb\n",
    "#App will take a users first name, last name, and GPA and tell them if they have made the Dean's List or Honor Roll\n",
    "\n",
    "while True:\n",
    "    studentLast = input(\"What is your last name?\")\n",
    "    if studentLast == \"ZZZ\":\n",
    "        print(\"Done\")\n",
    "        break\n",
    "    else:\n",
    "        studentFirst = input(\"What is your first name?\")\n",
    "        studentGPA = float(input(\"What is your GPA?\"))\n",
    "        if studentGPA >= 3.5:\n",
    "            print(\"You have made the Dean's List!\")\n",
    "        elif studentGPA >= 3.25:\n",
    "            print(\"You have made Honor Roll!\")\n",
    "            \n",
    "#test cases:\n",
    "#What is your last name? Privett\n",
    "#What is your first name? Aiden\n",
    "#What is your GPA? 3.9\n",
    "#You have made the Dean's List!\n",
    "#What is your last name? Bob\n",
    "#What is your first name? Billy\n",
    "#What is your GPA? 2.3\n",
    "#What is your last name? West\n",
    "#What is your first name? Sarah\n",
    "#What is your GPA? 3.5\n",
    "#You have made the Dean's List!\n",
    "#What is your last name? East\n",
    "#What is your first name? Mike\n",
    "#What is your GPA? 3.4\n",
    "#You have made Honor Roll!\n",
    "#What is your last name? Smith\n",
    "#What is your first name? Avery\n",
    "#What is your GPA? 3.25\n",
    "#You have made Honor Roll!\n",
    "#What is your last name? Smith\n",
    "#What is your first name? Bob\n",
    "#What is your GPA? 3.24\n",
    "#What is your last name? ZZZ\n",
    "#Done\n"
   ]
  },
  {
   "cell_type": "code",
   "execution_count": null,
   "id": "cb596624-6770-4521-9773-5756b7554f6c",
   "metadata": {},
   "outputs": [],
   "source": []
  }
 ],
 "metadata": {
  "kernelspec": {
   "display_name": "Python 3 (ipykernel)",
   "language": "python",
   "name": "python3"
  },
  "language_info": {
   "codemirror_mode": {
    "name": "ipython",
    "version": 3
   },
   "file_extension": ".py",
   "mimetype": "text/x-python",
   "name": "python",
   "nbconvert_exporter": "python",
   "pygments_lexer": "ipython3",
   "version": "3.13.5"
  }
 },
 "nbformat": 4,
 "nbformat_minor": 5
}
